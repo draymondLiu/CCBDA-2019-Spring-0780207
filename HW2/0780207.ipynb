{
 "cells": [
  {
   "cell_type": "code",
   "execution_count": 1,
   "metadata": {
    "scrolled": true
   },
   "outputs": [],
   "source": [
    "import csv\n",
    "import time\n",
    "def create_C1(data_set):\n",
    "    C1 = set()\n",
    "    for t in data_set:\n",
    "        for item in t:\n",
    "            C1.add(item)\n",
    "    return C1\n",
    "def create_Ck(Lksub1, k):\n",
    "    Ck = list()\n",
    "    x=[]\n",
    "    len_Lksub1 = 0\n",
    "    list_Lksub1 = []\n",
    "    for item in Lksub1:\n",
    "        if type(item) == str:\n",
    "            x.append(item.replace('\\'','').replace('(','').replace(')',''))\n",
    "            len_Lksub1 = len(x)\n",
    "            list_Lksub1 = list(x)\n",
    "        else:\n",
    "            len_Lksub1 = len(Lksub1)\n",
    "            list_Lksub1 = list(Lksub1)\n",
    "    #len_Lksub1 = len(Lksub1)\n",
    "    #list_Lksub1 = list(Lksub1)\n",
    "    #len_Lksub1 = len(x)\n",
    "    #list_Lksub1 = list(x)\n",
    "    \n",
    "    for i in range(len_Lksub1):\n",
    "        for j in range(len_Lksub1):\n",
    "            l1 = list(list_Lksub1[i])\n",
    "            l2 = list(list_Lksub1[j])\n",
    "            l1.sort()\n",
    "            l2.sort()\n",
    "            \n",
    "            if l1[0:k-2] == l2[0:k-2]:\n",
    "                Ck_item = list()\n",
    "                l1.append(l2[k-2])\n",
    "                Ck_item=l1.copy()\n",
    "                # pruning\n",
    "                Ck.append(tuple(Ck_item))\n",
    "    return Ck\n",
    "def generate_L1_by_C1(data_set, C1, min_support, support_data):\n",
    "    L1 = list()\n",
    "    item_count = {}\n",
    "    for t in data_set:\n",
    "        for item in C1:\n",
    "            if item in t:\n",
    "                \n",
    "                lst = '(\\''+str(item)+'\\')'\n",
    "                \n",
    "                if lst not in item_count:\n",
    "                    item_count[lst] = 1\n",
    "                else:\n",
    "                    item_count[lst] += 1\n",
    "                \"\"\"\n",
    "                if tuple(item) not in item_count:\n",
    "                    item_count[tuple(item)] = 1\n",
    "                else:\n",
    "                    item_count[tuple(item)] += 1\n",
    "                \"\"\"\n",
    "    #for item in item_count:\n",
    "        #lst = str(item)\n",
    "        #lst=lst.replace(',','')\n",
    "        #item2=tuple(lst)\n",
    "        #item_count.update({item2:item_count.pop(item)})\n",
    "    #print(item_count)\n",
    "        \n",
    "    for item in item_count:\n",
    "        if (item_count[item] ) >= min_support:\n",
    "            #lst = str(item)\n",
    "            #lst=lst.replace(',','')\n",
    "            #item2=tuple(lst)\n",
    "            L1.append(item)\n",
    "            support_data[item] = item_count[item]\n",
    "    #print(L1)\n",
    "    return L1\n",
    "\n",
    "def generate_Lk_by_Ck(data_set, Ck, min_support, support_data):\n",
    "    Lk = list()\n",
    "    key= list()\n",
    "    value= list()\n",
    "    item_count = {}\n",
    "    num_sequence=[]\n",
    "    index=0\n",
    "    numIsapriori=0\n",
    "    for t in data_set:\n",
    "        for item in Ck:\n",
    "            length=len(item)\n",
    "            buffer_t=t.copy()   \n",
    "            num_sequence=[]\n",
    "            for  i  in  range(length):\n",
    "                num_sequence.append(0) \n",
    "         \n",
    "                if item[i] in buffer_t:\n",
    "                    num_sequence[i]=buffer_t.index(item[i])\n",
    "                    for j in  range(num_sequence[i]+1):\n",
    "                        unuse = buffer_t.pop(0)\n",
    "                else:\n",
    "                    num_sequence[i]=-1\n",
    "            \n",
    "            for  i  in  range(length):\n",
    "                if (num_sequence[i]>=0):\n",
    "                    numIsapriori=1\n",
    "                else:\n",
    "                    numIsapriori=0\n",
    "                    break\n",
    " \n",
    "            if numIsapriori==1:\n",
    "                if item in key:\n",
    "                    index=key.index(item)\n",
    "                    value[index]+=1\n",
    "                else:\n",
    "                    key.append(item)\n",
    "                    value.append(1)                 \n",
    "    tuplekey=[]\n",
    "    for a in key:\n",
    "        tuplekey.append(tuple(a))\n",
    "    item_count=dict(zip(tuplekey,value))\n",
    "    for item in item_count:\n",
    "        if (item_count[item] ) >= min_support:\n",
    "            Lk.append(item)\n",
    "            support_data[item] = item_count[item] \n",
    "    return Lk\n",
    "def generate_L(data_set, k, min_support):\n",
    "    support_data = {}\n",
    "    C1 = list(create_C1(data_set))\n",
    "    C1.sort()\n",
    "    L1 = generate_L1_by_C1(data_set, C1, min_support, support_data)\n",
    "    Lksub1 = L1.copy()\n",
    "    L = []\n",
    "    L.append(Lksub1) \n",
    "   \n",
    "    for i in range(2, k+1):\n",
    "        Ci = create_Ck(Lksub1, i)\n",
    "        Li = generate_Lk_by_Ck(data_set, Ci, min_support, support_data)\n",
    "        Lksub1 = Li.copy()\n",
    "        L.append(Lksub1)\n",
    "    return L, support_data\n",
    "def importCSV(filename):\n",
    "#read CSV file\n",
    "    with open(input_file, newline='') as csvfile:\n",
    "        rows = csv.reader(csvfile)\n",
    "        for row in rows:\n",
    "            data_set.append(row)\n",
    "def exportCSV(filename):\n",
    "    # write CSV file\n",
    "    with open(output_file, 'w', newline='') as csvfile:\n",
    "        writer = csv.writer(csvfile,delimiter=' ')  \n",
    "        #------------------>format process\n",
    "        KI=[]\n",
    "        VI=[]\n",
    "        for key,value in support_data.items():\n",
    "            KI.append(str(key).replace(\" \",\"\").replace(\"\",\"\"))\n",
    "            VI.append(value)\n",
    "        \n",
    "        temp=list(zip(KI,VI))\n",
    "        temp.sort()\n",
    "        KI[:],VI[:]=zip(*temp)\n",
    "        #<------------------\n",
    "        for i in range(len(KI)):\n",
    "            processkey=KI[i].replace(\"\",\"\").replace(\"(\",\"[\").replace(\")\",\"]\")\n",
    "            writer.writerow('{key},{value}'.format(key =processkey , value = VI[i]))"
   ]
  },
  {
   "cell_type": "code",
   "execution_count": 2,
   "metadata": {},
   "outputs": [
    {
     "name": "stdout",
     "output_type": "stream",
     "text": [
      "It cost 0.002000 sec\n",
      "0.002000093460083008\n"
     ]
    }
   ],
   "source": [
    "# dataset_1\n",
    "tStart = time.time()\n",
    "data_set = []\n",
    "\n",
    "input_file='publicdataset_1.csv'\n",
    "output_file='output_1.csv'\n",
    "support=2\n",
    "\n",
    "importCSV(input_file)\n",
    "#run apriori----->\n",
    "L, support_data = generate_L(data_set, 10, support)\n",
    "#---------------<\n",
    "exportCSV(output_file)\n",
    "tEnd = time.time()\n",
    "print (\"It cost %f sec\"%(tEnd - tStart))\n",
    "print (tEnd - tStart)"
   ]
  },
  {
   "cell_type": "code",
   "execution_count": 3,
   "metadata": {},
   "outputs": [
    {
     "name": "stdout",
     "output_type": "stream",
     "text": [
      "It cost 0.006000 sec\n",
      "0.006000041961669922\n"
     ]
    }
   ],
   "source": [
    "# dataset_2\n",
    "tStart = time.time()\n",
    "data_set = []\n",
    "\n",
    "input_file='publicdataset_1.csv'\n",
    "output_file='output_1.csv'\n",
    "support=2\n",
    "\n",
    "importCSV(input_file)\n",
    "#run apriori----->\n",
    "L, support_data = generate_L(data_set, 10, support)\n",
    "#---------------<\n",
    "exportCSV(output_file)\n",
    "tEnd = time.time()\n",
    "print (\"It cost %f sec\"%(tEnd - tStart))\n",
    "print (tEnd - tStart)"
   ]
  },
  {
   "cell_type": "code",
   "execution_count": 4,
   "metadata": {},
   "outputs": [
    {
     "name": "stdout",
     "output_type": "stream",
     "text": [
      "It cost 0.004000 sec\n",
      "0.004000425338745117\n"
     ]
    }
   ],
   "source": [
    "# dataset_3\n",
    "tStart = time.time()\n",
    "data_set = []\n",
    "\n",
    "input_file='publicdataset_1.csv'\n",
    "output_file='output_1.csv'\n",
    "support=2\n",
    "\n",
    "importCSV(input_file)\n",
    "#run apriori----->\n",
    "L, support_data = generate_L(data_set, 10, support)\n",
    "#---------------<\n",
    "exportCSV(output_file)\n",
    "tEnd = time.time()\n",
    "print (\"It cost %f sec\"%(tEnd - tStart))\n",
    "print (tEnd - tStart)"
   ]
  },
  {
   "cell_type": "code",
   "execution_count": 5,
   "metadata": {},
   "outputs": [
    {
     "name": "stdout",
     "output_type": "stream",
     "text": [
      "It cost 0.002000 sec\n",
      "0.002000093460083008\n"
     ]
    }
   ],
   "source": [
    "# dataset_4\n",
    "tStart = time.time()\n",
    "data_set = []\n",
    "\n",
    "input_file='publicdataset_1.csv'\n",
    "output_file='output_1.csv'\n",
    "support=3\n",
    "\n",
    "importCSV(input_file)\n",
    "#run apriori----->\n",
    "L, support_data = generate_L(data_set, 10, support)\n",
    "#---------------<\n",
    "exportCSV(output_file)\n",
    "tEnd = time.time()\n",
    "print (\"It cost %f sec\"%(tEnd - tStart))\n",
    "print (tEnd - tStart)"
   ]
  },
  {
   "cell_type": "code",
   "execution_count": 6,
   "metadata": {},
   "outputs": [
    {
     "name": "stdout",
     "output_type": "stream",
     "text": [
      "It cost 0.002000 sec\n",
      "0.002000093460083008\n"
     ]
    }
   ],
   "source": [
    "# dataset_5\n",
    "tStart = time.time()\n",
    "data_set = []\n",
    "\n",
    "input_file='publicdataset_1.csv'\n",
    "output_file='output_1.csv'\n",
    "support=4\n",
    "\n",
    "importCSV(input_file)\n",
    "#run apriori----->\n",
    "L, support_data = generate_L(data_set, 10, support)\n",
    "#---------------<\n",
    "exportCSV(output_file)\n",
    "tEnd = time.time()\n",
    "print (\"It cost %f sec\"%(tEnd - tStart))\n",
    "print (tEnd - tStart)"
   ]
  },
  {
   "cell_type": "code",
   "execution_count": 7,
   "metadata": {},
   "outputs": [
    {
     "name": "stdout",
     "output_type": "stream",
     "text": [
      "It cost 0.002000 sec\n",
      "0.002000093460083008\n"
     ]
    }
   ],
   "source": [
    "# dataset_6\n",
    "tStart = time.time()\n",
    "data_set = []\n",
    "\n",
    "input_file='publicdataset_1.csv'\n",
    "output_file='output_1.csv'\n",
    "support=4\n",
    "\n",
    "importCSV(input_file)\n",
    "#run apriori----->\n",
    "L, support_data = generate_L(data_set, 10, support)\n",
    "#---------------<\n",
    "exportCSV(output_file)\n",
    "tEnd = time.time()\n",
    "print (\"It cost %f sec\"%(tEnd - tStart))\n",
    "print (tEnd - tStart)"
   ]
  }
 ],
 "metadata": {
  "kernelspec": {
   "display_name": "Python 3",
   "language": "python",
   "name": "python3"
  },
  "language_info": {
   "codemirror_mode": {
    "name": "ipython",
    "version": 3
   },
   "file_extension": ".py",
   "mimetype": "text/x-python",
   "name": "python",
   "nbconvert_exporter": "python",
   "pygments_lexer": "ipython3",
   "version": "3.7.3"
  }
 },
 "nbformat": 4,
 "nbformat_minor": 2
}

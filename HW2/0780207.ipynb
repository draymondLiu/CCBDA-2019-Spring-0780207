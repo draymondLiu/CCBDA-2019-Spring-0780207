{
 "cells": [
  {
   "cell_type": "code",
   "execution_count": 1,
   "metadata": {},
   "outputs": [],
   "source": [
    "import csv\n",
    "import time\n",
    "from extratools.dicttools import nextentries\n",
    "\n",
    "def importCSV(filename):\n",
    "#read CSV file\n",
    "    with open(input_file, newline='') as csvfile:\n",
    "        rows = csv.reader(csvfile)\n",
    "        for row in rows:\n",
    "            data_set.append(row)\n",
    "def exportCSV(filename):\n",
    "    # write CSV file\n",
    "    with open(output_file, 'w', newline='') as csvfile:\n",
    "        writer = csv.writer(csvfile,delimiter=' ')  \n",
    "        \n",
    "        KI=[]\n",
    "        VI=[]\n",
    "        for item in support_data:\n",
    "            KI.append(item[1])\n",
    "            VI.append(item[0])\n",
    "        \n",
    "            temp=list(zip(KI,VI))\n",
    "            temp.sort()\n",
    "            KI[:],VI[:]=zip(*temp)\n",
    "        #\"\"\"\n",
    "        for i in range(len(KI)):\n",
    "            processkey=str(KI[i]).replace(\"'\",\"\").replace(\"(\",\"[\").replace(\")\",\"]\").replace(\" \",\"\")\n",
    "            writer.writerow('{key},{value}'.format(key =processkey , value = VI[i]))\n",
    "        #\"\"\""
   ]
  },
  {
   "cell_type": "code",
   "execution_count": 2,
   "metadata": {},
   "outputs": [],
   "source": [
    "class PrefixSpan(object):\n",
    "    def __init__(self, db):\n",
    "        # type: (List[List[int]]) -> None\n",
    "        self._db = db\n",
    "\n",
    "        self.minlen, self.maxlen = 1, 1000\n",
    "\n",
    "        self._results = [] # type: Any\n",
    "\n",
    "    def _mine(self, func):\n",
    "        # type: (Callable[[Pattern, Matches], None]) -> Any\n",
    "        self._results.clear()\n",
    "\n",
    "        func([], [(i, -1) for i in range(len(self._db))])\n",
    "\n",
    "        return self._results\n",
    "\n",
    "    frequent = None # type: Callable\n",
    "    topk = None # type: Callable\n",
    "\n",
    "    defaultkey = lambda patt, matches: len(matches)"
   ]
  },
  {
   "cell_type": "code",
   "execution_count": 3,
   "metadata": {},
   "outputs": [],
   "source": [
    "def PrefixSpan_frequent(\n",
    "        self, minsup, closed=False, generator=False,\n",
    "        key=None, bound=None,\n",
    "        filter=None, callback=None\n",
    "    ):\n",
    "    # type: (PrefixSpan, int, bool, bool, Optional[Key], Optional[Key], Optional[Filter], Optional[Callback]) -> Results\n",
    "    if generator:\n",
    "        occursstack = [] # type: List[Occurs]\n",
    "\n",
    "    def canpass(sup):\n",
    "        # type: (int) -> bool\n",
    "        return sup < minsup\n",
    "\n",
    "    def verify(patt, matches):\n",
    "        # type: (Pattern, Matches) -> None\n",
    "        sup = key(patt, matches)\n",
    "        if canpass(sup):\n",
    "            return\n",
    "\n",
    "        if (filter is None or filter(patt, matches)) and (\n",
    "                (not closed or isclosed(self._db, patt, matches)) and\n",
    "                (not generator or isgenerator(self._db, patt, matches, occursstack))\n",
    "            ):\n",
    "            if callback:\n",
    "                callback(patt, matches)\n",
    "            else:\n",
    "                self._results.append((sup, patt))\n",
    "\n",
    "    def frequent_rec(patt, matches):\n",
    "        # type: (Pattern, Matches) -> None\n",
    "        if len(patt) >= self.minlen:\n",
    "            verify(patt, matches)\n",
    "\n",
    "            if len(patt) == self.maxlen:\n",
    "                return\n",
    "\n",
    "        occurs = nextentries(self._db, matches)\n",
    "        if generator:\n",
    "            occursstack.append(occurs)\n",
    "\n",
    "        for newitem, newmatches in occurs.items():\n",
    "            newpatt = patt + [newitem]\n",
    "            if canpass(bound(newpatt, newmatches)) or (\n",
    "                    closed and canclosedprune(self._db, newpatt, newmatches) or\n",
    "                    generator and cangeneratorprune(self._db, newpatt, newmatches, occursstack)\n",
    "                ):\n",
    "                continue\n",
    "\n",
    "            frequent_rec(newpatt, newmatches)\n",
    "\n",
    "        if generator:\n",
    "            occursstack.pop()\n",
    "\n",
    "    if key is None:\n",
    "        key = bound = PrefixSpan.defaultkey\n",
    "\n",
    "    results = self._mine(frequent_rec)\n",
    "\n",
    "    return None if callback else results"
   ]
  },
  {
   "cell_type": "code",
   "execution_count": 4,
   "metadata": {},
   "outputs": [],
   "source": [
    "def PrefixSpan_topk(\n",
    "        self, k, closed=False, generator=False,\n",
    "        key=None, bound=None,\n",
    "        filter=None, callback=None\n",
    "    ):\n",
    "    # type: (PrefixSpan, int, bool, bool, Optional[Key], Optional[Key], Optional[Filter], Optional[Callback]) -> Results\n",
    "    if generator:\n",
    "        occursstack = [] # type: List[Occurs]\n",
    "\n",
    "    def canpass(sup):\n",
    "        # type: (int) -> bool\n",
    "        return len(self._results) == k and sup <= self._results[0][0]\n",
    "\n",
    "\n",
    "    def verify(patt, matches):\n",
    "        # type: (Pattern, Matches) -> None\n",
    "        sup = key(patt, matches)\n",
    "        if canpass(sup):\n",
    "            return\n",
    "\n",
    "        if (filter is None or filter(patt, matches)) and (\n",
    "                (not closed or isclosed(self._db, patt, matches)) and\n",
    "                (not generator or isgenerator(self._db, patt, matches, occursstack))\n",
    "            ):\n",
    "            (heappush if len(self._results) < k else heappushpop)(self._results, (sup, patt, matches))\n",
    "\n",
    "    def topk_rec(patt, matches):\n",
    "        # type: (Pattern, Matches) -> None\n",
    "        if len(patt) >= self.minlen:\n",
    "            verify(patt, matches)\n",
    "\n",
    "            if len(patt) == self.maxlen:\n",
    "                return\n",
    "\n",
    "        occurs = nextentries(self._db, matches)\n",
    "        if generator:\n",
    "            occursstack.append(occurs)\n",
    "\n",
    "        for newitem, newmatches in sorted(\n",
    "                occurs.items(),\n",
    "                key=lambda x: key(patt + [x[0]], x[1]),\n",
    "                reverse=True\n",
    "            ):\n",
    "            newpatt = patt + [newitem]\n",
    "\n",
    "            if canpass(bound(newpatt, newmatches)):\n",
    "                break\n",
    "\n",
    "            if (\n",
    "                    closed and canclosedprune(self._db, newpatt, newmatches) or\n",
    "                    generator and cangeneratorprune(self._db, newpatt, newmatches, occursstack)\n",
    "                ):\n",
    "                continue\n",
    "\n",
    "            topk_rec(newpatt, newmatches)\n",
    "\n",
    "        if generator:\n",
    "            occursstack.pop()\n",
    "\n",
    "    if key is None:\n",
    "        key = bound = PrefixSpan.defaultkey\n",
    "\n",
    "    # Sort by support in reverse, then by pattern.\n",
    "    results = sorted(self._mine(topk_rec), key=lambda x: (-x[0], x[1]))\n",
    "\n",
    "    if callback:\n",
    "        for _, patt, matches in results:\n",
    "            callback(patt, matches)\n",
    "\n",
    "        return None\n",
    "\n",
    "    return [(sup, patt) for sup, patt, _ in results]"
   ]
  },
  {
   "cell_type": "code",
   "execution_count": 5,
   "metadata": {},
   "outputs": [],
   "source": [
    "PrefixSpan.frequent = PrefixSpan_frequent\n",
    "PrefixSpan.topk = PrefixSpan_topk"
   ]
  },
  {
   "cell_type": "code",
   "execution_count": 6,
   "metadata": {},
   "outputs": [
    {
     "name": "stdout",
     "output_type": "stream",
     "text": [
      "It cost 0.038002 sec\n",
      "0.03800201416015625\n"
     ]
    }
   ],
   "source": [
    "# dataset_1\n",
    "tStart = time.time()\n",
    "data_set = []\n",
    "\n",
    "temp=[]\n",
    "\n",
    "input_file='dataset_3.csv'\n",
    "output_file='output_1.csv'\n",
    "support=2\n",
    "\n",
    "importCSV(input_file)\n",
    "ps = PrefixSpan(data_set)\n",
    "support_data=ps.frequent(support)\n",
    "exportCSV(output_file)\n",
    "\n",
    "tEnd = time.time()\n",
    "print (\"It cost %f sec\"%(tEnd - tStart))\n",
    "print (tEnd - tStart)"
   ]
  },
  {
   "cell_type": "code",
   "execution_count": 7,
   "metadata": {},
   "outputs": [
    {
     "name": "stdout",
     "output_type": "stream",
     "text": [
      "It cost 0.051003 sec\n",
      "0.05100297927856445\n"
     ]
    }
   ],
   "source": [
    "# dataset_2\n",
    "tStart = time.time()\n",
    "data_set = []\n",
    "\n",
    "temp=[]\n",
    "\n",
    "input_file='dataset_3.csv'\n",
    "output_file='output_1.csv'\n",
    "support=2\n",
    "\n",
    "importCSV(input_file)\n",
    "ps = PrefixSpan(data_set)\n",
    "support_data=ps.frequent(support)\n",
    "exportCSV(output_file)\n",
    "\n",
    "tEnd = time.time()\n",
    "print (\"It cost %f sec\"%(tEnd - tStart))\n",
    "print (tEnd - tStart)"
   ]
  },
  {
   "cell_type": "code",
   "execution_count": 8,
   "metadata": {},
   "outputs": [
    {
     "name": "stdout",
     "output_type": "stream",
     "text": [
      "It cost 0.040002 sec\n",
      "0.04000234603881836\n"
     ]
    }
   ],
   "source": [
    "# dataset_3\n",
    "tStart = time.time()\n",
    "data_set = []\n",
    "\n",
    "temp=[]\n",
    "\n",
    "input_file='dataset_3.csv'\n",
    "output_file='output_1.csv'\n",
    "support=2\n",
    "\n",
    "importCSV(input_file)\n",
    "ps = PrefixSpan(data_set)\n",
    "support_data=ps.frequent(support)\n",
    "exportCSV(output_file)\n",
    "\n",
    "tEnd = time.time()\n",
    "print (\"It cost %f sec\"%(tEnd - tStart))\n",
    "print (tEnd - tStart)"
   ]
  },
  {
   "cell_type": "code",
   "execution_count": 9,
   "metadata": {},
   "outputs": [
    {
     "name": "stdout",
     "output_type": "stream",
     "text": [
      "It cost 0.012001 sec\n",
      "0.012000799179077148\n"
     ]
    }
   ],
   "source": [
    "# dataset_4\n",
    "tStart = time.time()\n",
    "data_set = []\n",
    "\n",
    "temp=[]\n",
    "\n",
    "input_file='dataset_3.csv'\n",
    "output_file='output_1.csv'\n",
    "support=3\n",
    "\n",
    "importCSV(input_file)\n",
    "ps = PrefixSpan(data_set)\n",
    "support_data=ps.frequent(support)\n",
    "exportCSV(output_file)\n",
    "\n",
    "tEnd = time.time()\n",
    "print (\"It cost %f sec\"%(tEnd - tStart))\n",
    "print (tEnd - tStart)"
   ]
  },
  {
   "cell_type": "code",
   "execution_count": 10,
   "metadata": {},
   "outputs": [
    {
     "name": "stdout",
     "output_type": "stream",
     "text": [
      "It cost 0.007000 sec\n",
      "0.007000446319580078\n"
     ]
    }
   ],
   "source": [
    "# dataset_5\n",
    "tStart = time.time()\n",
    "data_set = []\n",
    "\n",
    "temp=[]\n",
    "\n",
    "input_file='dataset_3.csv'\n",
    "output_file='output_1.csv'\n",
    "support=4\n",
    "\n",
    "importCSV(input_file)\n",
    "ps = PrefixSpan(data_set)\n",
    "support_data=ps.frequent(support)\n",
    "exportCSV(output_file)\n",
    "\n",
    "tEnd = time.time()\n",
    "print (\"It cost %f sec\"%(tEnd - tStart))\n",
    "print (tEnd - tStart)"
   ]
  },
  {
   "cell_type": "code",
   "execution_count": 11,
   "metadata": {},
   "outputs": [
    {
     "name": "stdout",
     "output_type": "stream",
     "text": [
      "It cost 0.009001 sec\n",
      "0.009000778198242188\n"
     ]
    }
   ],
   "source": [
    "# dataset_6\n",
    "tStart = time.time()\n",
    "data_set = []\n",
    "\n",
    "temp=[]\n",
    "\n",
    "input_file='dataset_3.csv'\n",
    "output_file='output_1.csv'\n",
    "support=4\n",
    "\n",
    "importCSV(input_file)\n",
    "ps = PrefixSpan(data_set)\n",
    "support_data=ps.frequent(support)\n",
    "exportCSV(output_file)\n",
    "\n",
    "tEnd = time.time()\n",
    "print (\"It cost %f sec\"%(tEnd - tStart))\n",
    "print (tEnd - tStart)"
   ]
  }
 ],
 "metadata": {
  "kernelspec": {
   "display_name": "Python 3",
   "language": "python",
   "name": "python3"
  },
  "language_info": {
   "codemirror_mode": {
    "name": "ipython",
    "version": 3
   },
   "file_extension": ".py",
   "mimetype": "text/x-python",
   "name": "python",
   "nbconvert_exporter": "python",
   "pygments_lexer": "ipython3",
   "version": "3.7.3"
  }
 },
 "nbformat": 4,
 "nbformat_minor": 2
}
